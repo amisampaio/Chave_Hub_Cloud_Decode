{
  "nbformat": 4,
  "nbformat_minor": 0,
  "metadata": {
    "colab": {
      "name": "Chave Hub - Cloud Decode.ipynb",
      "provenance": [],
      "collapsed_sections": [],
      "machine_shape": "hm",
      "authorship_tag": "ABX9TyNrNMdsj2PN3Xu5UvUdayOb",
      "include_colab_link": true
    },
    "kernelspec": {
      "name": "python3",
      "display_name": "Python 3"
    }
  },
  "cells": [
    {
      "cell_type": "markdown",
      "metadata": {
        "id": "view-in-github",
        "colab_type": "text"
      },
      "source": [
        "<a href=\"https://colab.research.google.com/github/amisampaio/Chave_Hub_Cloud_Decode/blob/main/Chave_Hub_Cloud_Decode.ipynb\" target=\"_parent\"><img src=\"https://colab.research.google.com/assets/colab-badge.svg\" alt=\"Open In Colab\"/></a>"
      ]
    },
    {
      "cell_type": "code",
      "metadata": {
        "id": "sF5h6BAPRafJ"
      },
      "source": [
        ""
      ],
      "execution_count": null,
      "outputs": []
    },
    {
      "cell_type": "code",
      "metadata": {
        "id": "tBU8CY7MpcSV",
        "cellView": "form"
      },
      "source": [
        "_locals = locals();exec(\"\\ntry:\\n  from encode_hub import encode_hub \\nexcept:\\n  import os\\n  os.system('pip install encode_hub')\\n  from encode_hub import encode_hub\", globals(), _locals)\r\n",
        "\r\n",
        "message = \"\"\"\r\n",
        "\r\n",
        "###############################################\r\n",
        "#@markdown -------------------------------------\r\n",
        "#@markdown **Gerador - Chave Hub - Cloud Decode**\r\n",
        "#@markdown \r\n",
        "#@markdown Visite https://crawlers.dru.decode.buzz/ para obter seu usuario do GitLab\r\n",
        "#@markdown depois digite aqui seus dados para gerar sua chave hub :D\r\n",
        "#@markdown \r\n",
        "###############################################\r\n",
        "#@markdown -------------------------------------\r\n",
        "#@markdown **Login GitLab** \r\n",
        "#@markdown -------------------------------------\r\n",
        "###############################################\r\n",
        "gitlab_url = \"https://gitlab.dru.decode.buzz/crawlers\" #@param {type:\"string\"}\r\n",
        "gitlab_user = \"\" #@param {type:\"string\"}\r\n",
        "gitlab_key = \"\" #@param {type:\"string\"}\r\n",
        "###############################################\r\n",
        "#@markdown -------------------------------------\r\n",
        "#@markdown **API Key** \r\n",
        "#@markdown -------------------------------------\r\n",
        "api_key = \"\" #@param {type:\"string\"}\r\n",
        "#@markdown -------------------------------------\r\n",
        "###########################################################\r\n",
        "\r\n",
        "# Clone\r\n",
        "###########################################################\r\n",
        "import os\r\n",
        "def set_rw(operation, name, exc):\r\n",
        "    import stat\r\n",
        "    os.chmod(name, stat.S_IWRITE)\r\n",
        "    return True\r\n",
        "def git_clone(url, gitlab_user, gitlab_key):\r\n",
        " import os,shutil\r\n",
        " url = 'git clone ' + url.replace('https://', 'https://' + gitlab_user + ':' + gitlab_key + '@')\r\n",
        " try:\r\n",
        "   try:\r\n",
        "    shutil.rmtree((os.getcwd().replace('\\\\\\\\','/') + '/' + url.split('.git')[0].split('/')[-1] + '/').replace('git clone ',''), ignore_errors=False , onerror=set_rw)\r\n",
        "   except Exception as e:\r\n",
        "    print('Erro1:',e)\r\n",
        "    pass\r\n",
        "   #print(url)\r\n",
        "   x = os.system(url)\r\n",
        "   if x != 0:\r\n",
        "    try:\r\n",
        "     shutil.rmtree((os.getcwd().replace('\\\\\\\\', '/') + '/' + url.split('.git')[0].split('/')[-1] + '/').replace('git clone ',''), ignore_errors=False, onerror=set_rw)\r\n",
        "    except Exception as e:\r\n",
        "      print(\"Erro2:\",e)\r\n",
        "      pass\r\n",
        "    os.system(url)\r\n",
        " except Exception as e:\r\n",
        "  print(\"Erro3:\",e)\r\n",
        "  pass\r\n",
        "try:\r\n",
        "  del h\r\n",
        "except:\r\n",
        "  pass\r\n",
        "try:\r\n",
        "  del sys.modules['h']\r\n",
        "except:\r\n",
        "  pass\r\n",
        "try:\r\n",
        "  del hub_dados\r\n",
        "except:\r\n",
        "  pass\r\n",
        "try:\r\n",
        "  del sys.modules['hub_dados']\r\n",
        "except:\r\n",
        "  pass\r\n",
        "try:\r\n",
        "  del sys.modules['hub_dados.hub_dados']\r\n",
        "except:\r\n",
        "    pass\r\n",
        "git_clone(gitlab_url +'/hub_dados.git', gitlab_user, gitlab_key)\r\n",
        "\r\n",
        "from hub_dados import hub_dados as h\r\n",
        "# Iniciando hub\r\n",
        "###########################################################\r\n",
        "c = h.login_gitlab(gitlab_user,gitlab_key,gitlab_url)  \r\n",
        "###########################################################\r\n",
        "h.config.api_key = api_key\r\n",
        "###########################################################\r\n",
        "\r\n",
        "\"\"\"\r\n",
        "\r\n",
        "print(\"Digite a nova senha de acesso:\")\r\n",
        "key = encode_hub.encode_hub(message)\r\n",
        "print(key)\r\n",
        "\r\n",
        "# executa um código sem que a pessoa possa ver o que esta acontecendo ! (mas seguro, sem liberdada)\r\n",
        "#exec('try:encode_hub.safe_decode(chave_hub)\\nexcept:pass')\r\n"
      ],
      "execution_count": null,
      "outputs": []
    },
    {
      "cell_type": "code",
      "metadata": {
        "id": "oFlArAV728lU"
      },
      "source": [
        ""
      ],
      "execution_count": null,
      "outputs": []
    },
    {
      "cell_type": "code",
      "metadata": {
        "id": "gWljV0ylpcQF",
        "cellView": "form"
      },
      "source": [
        "###############################################\r\n",
        "#@markdown -------------------------------------\r\n",
        "#@markdown **Teste: Chave Hub : Cloud Decode** \r\n",
        "#@markdown -------------------------------------\r\n",
        "#@markdown \r\n",
        "#@markdown Digite aqui sua chave execute o play e depois digite sua senha:\r\n",
        "###############################################\r\n",
        "chave_hub = \"\" #@param {type:\"string\"}\r\n",
        "_locals = locals();import base64;exec(base64.b64decode(b'Cgp0cnk6CiAgZnJvbSBlbmNvZGVfaHViIGltcG9ydCBlbmNvZGVfaHViIApleGNlcHQ6CiAgaW1wb3J0IG9zCiAgb3Muc3lzdGVtKCdwaXAgaW5zdGFsbCBlbmNvZGVfaHViJykKICBmcm9tIGVuY29kZV9odWIgaW1wb3J0IGVuY29kZV9odWIKdHJ5Ogogd2l0aCBlbmNvZGVfaHViLkhpZGRlblByaW50cygpOgogIGV4ZWMoZW5jb2RlX2h1Yi5kZWNvZGVfaHViKGNoYXZlX2h1YikpCmV4Y2VwdDpwYXNzCgo=').decode('utf-8'), globals(), _locals)\r\n",
        "\r\n",
        "h.run(\"crawler_registro_civil\",\"nascimento_casamento_morte\",\"01/01/2020\",\"31/01/2020\",False,True,False) # 15 s"
      ],
      "execution_count": null,
      "outputs": []
    },
    {
      "cell_type": "code",
      "metadata": {
        "id": "Kqy5O014MTZf"
      },
      "source": [
        ""
      ],
      "execution_count": null,
      "outputs": []
    }
  ]
}